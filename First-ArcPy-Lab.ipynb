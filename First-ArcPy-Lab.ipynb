{
 "metadata": {
  "name": ""
 },
 "nbformat": 3,
 "nbformat_minor": 0,
 "worksheets": [
  {
   "cells": [
    {
     "cell_type": "heading",
     "level": 1,
     "metadata": {},
     "source": [
      "First ArcPy Lab!"
     ]
    },
    {
     "cell_type": "heading",
     "level": 3,
     "metadata": {},
     "source": [
      "Import packages and set the configurations"
     ]
    },
    {
     "cell_type": "code",
     "collapsed": false,
     "input": [
      "import arcpy\n",
      "from subprocess import call\n",
      "import os\n",
      "import sys\n",
      "\n",
      "os.environ[\"GDAL_DATA\"] = \"C:\\\\OSGeo4W\\\\share\\\\gdal\"\n",
      "os.environ[\"GDAL_DRIVER_PATH\"] = \"C:\\\\OSGeo4W\\\\bin\\\\gdalplugins\"\n",
      "os.environ[\"PROJ_LIB\"] = \"C:\\\\OSGeo4W\\\\share\\\\proj\"\n",
      "os.environ[\"PATH\"] = \"C:\\\\OSGeo4W\\\\bin;\"+os.environ[\"PATH\"]+\";C:\\\\OSGeo4W\\\\apps\\\\msys\\\\bin;C:\\\\OSGeo4W\\\\apps\\\\Python27\\\\Scripts\"\n",
      "\n",
      "# ogr2ogr path\n",
      "exePath = 'C:\\\\OSGeo4W\\\\bin\\\\ogr2ogr'\n",
      "exePath = r'C:\\Python27\\ArcGIS10.2\\release-1700-gdal-1-11-3-mapserver-6-4-2\\bin\\ogr2ogr'\n",
      "\n",
      "# output shape file directory\n",
      "outputDirectory = os.path.join(os.getcwd(), 'shapefiles')\n",
      "# output geojson file directory\n",
      "outputDirectoryJson = os.path.join(os.getcwd(), 'geojsonFiles')\n",
      "\n",
      "# input shp\n",
      "fc = os.path.join(os.getcwd(), r'saep_bg10\\saep_bg10.shp')\n",
      "# input mapping between county code and name\n",
      "dbf = os.path.join(os.getcwd(), r'WashingtonFIPS.dbf')"
     ],
     "language": "python",
     "metadata": {},
     "outputs": [],
     "prompt_number": 2
    },
    {
     "cell_type": "heading",
     "level": 3,
     "metadata": {},
     "source": [
      "read file WashingtonFIPS.dbf, store the mapping from county code to county name in dictionary"
     ]
    },
    {
     "cell_type": "code",
     "collapsed": false,
     "input": [
      "def readCodeNameMap(fn):\n",
      "    \n",
      "    rows = arcpy.SearchCursor(fn) \n",
      "    \n",
      "    h = {} # mapping from county code to county name\n",
      "    for row in rows:\n",
      "\n",
      "        h[row.getValue(\"FIPSCounty\")] = row.getValue(\"CountyName\")\n",
      "\n",
      "    return h"
     ],
     "language": "python",
     "metadata": {},
     "outputs": []
    },
    {
     "cell_type": "heading",
     "level": 3,
     "metadata": {},
     "source": [
      "this function create the directory if it doesn't exist and remove all the files in it if it exist"
     ]
    },
    {
     "cell_type": "code",
     "collapsed": false,
     "input": [
      "def createEmptyDir(dir):\n",
      "    \n",
      "    # if it doesn't exist, create the directory\n",
      "    if not os.path.exists(dir):\n",
      "        os.makedirs(dir)\n",
      "        \n",
      "    # remove all the files in the directory\n",
      "    for f in os.listdir(dir):\n",
      "        \n",
      "        os.remove(os.path.join(dir, f))"
     ],
     "language": "python",
     "metadata": {},
     "outputs": []
    },
    {
     "cell_type": "heading",
     "level": 3,
     "metadata": {},
     "source": [
      "This function read the shp file, for every county, put all polygons of a county to an array, write the polygons to a shp file \n",
      "and using ogr2ogr to convert to geojson files."
     ]
    },
    {
     "cell_type": "code",
     "collapsed": false,
     "input": [
      "def readShp(fn):\n",
      "    \n",
      "    # get the rows of shp file\n",
      "    rows = arcpy.SearchCursor(fn) \n",
      "    \n",
      "    # store population for every county\n",
      "    totalPopulations = {}\n",
      "\n",
      "    # store polygons for every county\n",
      "    polygons = {}\n",
      "\n",
      "    for row in rows:\n",
      "\n",
      "        countyCode = row.getValue(\"COUNTYFP10\")\n",
      "\n",
      "        if countyCode not in totalPopulations:\n",
      "\n",
      "            totalPopulations[countyCode] = []\n",
      "\n",
      "            polygons[countyCode] = []\n",
      "            \n",
      "        # put the polygon in polygons\n",
      "        polygons[countyCode].append(row.getValue('Shape'))\n",
      "        \n",
      "        # put the population in totalPopulations\n",
      "        totalPopulations[countyCode].append(row.getValue('POP2013') )\n",
      "        \n",
      "    # all county codes array\n",
      "    countyCodes = [countyCode for countyCode in totalPopulations]\n",
      "    \n",
      "    # sort the array according to the total population\n",
      "    countyCodes.sort( key = lambda x : sum(totalPopulations[x]), reverse = True)\n",
      "    \n",
      "    # get the mapping from county to name\n",
      "    names = readCodeNameMap(dbf)\n",
      "    \n",
      "    # output the  top 10 county names\n",
      "    for i in range(10):\n",
      "        \n",
      "        print names[countyCodes[i]]\n",
      "        \n",
      "    # create empty shp file directory and geojson directory\n",
      "    createEmptyDir(outputDirectory)\n",
      "    createEmptyDir(outputDirectoryJson)\n",
      "    \n",
      "    \n",
      "    for countyCode in polygons:\n",
      "\n",
      "        name = names[countyCode]\n",
      "\n",
      "        fp = os.path.join(outputDirectory, name + '.shp')\n",
      "\n",
      "        gf = os.path.join(outputDirectoryJson, name + '.geojson') \n",
      "\n",
      "        # create the shp file\n",
      "        arcpy.CopyFeatures_management(polygons[countyCode], fp)\n",
      "        \n",
      "        # convert the shp file to geojson file\n",
      "        call([exePath,'-t_srs','WGS84', '-s_srs','EPSG:26913', '-f','GeoJSON',\n",
      "            gf,\n",
      "            fp])"
     ],
     "language": "python",
     "metadata": {},
     "outputs": []
    },
    {
     "cell_type": "heading",
     "level": 3,
     "metadata": {},
     "source": [
      "call the readShp to do all the task"
     ]
    },
    {
     "cell_type": "code",
     "collapsed": false,
     "input": [
      "readShp(fc)"
     ],
     "language": "python",
     "metadata": {},
     "outputs": []
    },
    {
     "cell_type": "heading",
     "level": 3,
     "metadata": {},
     "source": [
      "Output of the top 10 counties"
     ]
    },
    {
     "cell_type": "raw",
     "metadata": {},
     "source": [
      "King\n",
      "Pierce\n",
      "Snohomish\n",
      "Spokane\n",
      "Clark\n",
      "Thurston\n",
      "Kitsap\n",
      "Yakima\n",
      "Whatcom\n",
      "Benton\n"
     ]
    },
    {
     "cell_type": "heading",
     "level": 2,
     "metadata": {},
     "source": [
      "Summary"
     ]
    },
    {
     "cell_type": "markdown",
     "metadata": {},
     "source": [
      "I use arcpy.SearchCursor function to get all the rows of the table, iterate the rows, put the polygons of the same \n",
      "county together, use arcpy.CopyFeatures_management to create the shp file and then use shp to convert to geojson file.\n",
      "Also put the population of each block from same county together, using sum to compute the total population of the county,\n",
      "and sort the county from by population. The mapping from county code to county name is through reading WashingtonFIPS.dbf.\n"
     ]
    },
    {
     "cell_type": "heading",
     "level": 3,
     "metadata": {},
     "source": [
      "Estimated spending hour on this project: 20 hours"
     ]
    }
   ],
   "metadata": {}
  }
 ]
}
